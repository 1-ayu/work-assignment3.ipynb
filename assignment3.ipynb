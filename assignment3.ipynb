{
 "cells": [
  {
   "cell_type": "markdown",
   "id": "95e904a0-6246-4b57-9711-b187d94ea92b",
   "metadata": {},
   "source": [
    "1. def keyword is used to create a function."
   ]
  },
  {
   "cell_type": "code",
   "execution_count": 23,
   "id": "fee7a276-d48e-491d-94ed-d808ee1a4b52",
   "metadata": {},
   "outputs": [
    {
     "name": "stdout",
     "output_type": "stream",
     "text": [
      "[1, 3, 5, 7, 9, 11, 13, 15, 17, 19, 21, 23, 25]\n"
     ]
    }
   ],
   "source": [
    "def odd_numbers():\n",
    "    i=[]\n",
    "    for number in range(1,26):\n",
    "        if number%2!=0:\n",
    "            i.append(number)\n",
    "    return i\n",
    "result=odd_numbers()\n",
    "print(result)"
   ]
  },
  {
   "cell_type": "markdown",
   "id": "dc984b75-6bba-432e-be41-d046aa61e76a",
   "metadata": {},
   "source": [
    "2.*args used in some function because when you pass the variable which are non-keywords arguements and\n",
    "**kwargs used for the elements to pass which have the keywords arguments and it then iterated the key value pairs in the 'kwargs' dictionary and pass them "
   ]
  },
  {
   "cell_type": "code",
   "execution_count": 3,
   "id": "d532ba76-1d1e-43c9-8746-ec4b12bcad1a",
   "metadata": {},
   "outputs": [],
   "source": [
    "# Example of *args\n",
    "def ayush(c,d,a=11,b=43):\n",
    "    return a,b,c,d"
   ]
  },
  {
   "cell_type": "code",
   "execution_count": 4,
   "id": "0507af54-743c-45bb-ab52-36199e6efc57",
   "metadata": {},
   "outputs": [
    {
     "data": {
      "text/plain": [
       "(11, 43, 123, 44)"
      ]
     },
     "execution_count": 4,
     "metadata": {},
     "output_type": "execute_result"
    }
   ],
   "source": [
    "ayush(123,44)"
   ]
  },
  {
   "cell_type": "code",
   "execution_count": 2,
   "id": "2f3937ae-13d4-4560-8a5e-1d9365c9660e",
   "metadata": {},
   "outputs": [],
   "source": [
    "# Example of **kwargs\n",
    "def ayush(**kwargs):\n",
    "    return kwargs"
   ]
  },
  {
   "cell_type": "code",
   "execution_count": 3,
   "id": "b19309b1-967b-411b-bd49-54368136fab0",
   "metadata": {},
   "outputs": [
    {
     "data": {
      "text/plain": [
       "{'name': 'Aayush Raj Karan', 'Stream': 'BCA', 'year': '2024'}"
      ]
     },
     "execution_count": 3,
     "metadata": {},
     "output_type": "execute_result"
    }
   ],
   "source": [
    "ayush(name='Aayush Raj Karan',Stream='BCA',year='2024')"
   ]
  },
  {
   "cell_type": "code",
   "execution_count": 4,
   "id": "f20e253e-cffd-4e66-aa4a-c37704449250",
   "metadata": {},
   "outputs": [
    {
     "data": {
      "text/plain": [
       "dict"
      ]
     },
     "execution_count": 4,
     "metadata": {},
     "output_type": "execute_result"
    }
   ],
   "source": [
    "type(ayush())"
   ]
  },
  {
   "cell_type": "markdown",
   "id": "4879c8dd-7d4a-4985-992b-a15045404491",
   "metadata": {},
   "source": [
    "3.Iterator is an object that implements the iterator protocol,which consists of two methods:\n",
    "\n",
    "a._iter_=This function takes a sequence, such as list and returns an iterator object that can be used for iteration.\n",
    "b._next_=It retrieves the next element from the iterator."
   ]
  },
  {
   "cell_type": "code",
   "execution_count": 4,
   "id": "e83f0e7a-6522-4c8e-aaf2-442b5065ed3a",
   "metadata": {},
   "outputs": [
    {
     "name": "stdout",
     "output_type": "stream",
     "text": [
      "2\n",
      "4\n",
      "6\n",
      "8\n",
      "10\n"
     ]
    }
   ],
   "source": [
    "my_list=[2,4,6,8,10,12,14,16,18,20]\n",
    "my_iterator=iter(my_list)\n",
    "\n",
    "for i in range(5):\n",
    "    element=next(my_iterator)\n",
    "    print(element)"
   ]
  },
  {
   "cell_type": "markdown",
   "id": "f10ad339-23ee-4339-847f-18e591d03ac5",
   "metadata": {},
   "source": [
    "4. Generator function is a function that returns the iterator using the yield keyword.\n",
    "   yield keyword is used to return the statement."
   ]
  },
  {
   "cell_type": "code",
   "execution_count": 1,
   "id": "108b5645-d5b2-44ed-a16d-4ca2a90f4268",
   "metadata": {},
   "outputs": [],
   "source": [
    "def ayush_1(n):\n",
    "    a,b=0,1\n",
    "    for i in range(n):\n",
    "        yield a\n",
    "        a,b=b, a*b"
   ]
  },
  {
   "cell_type": "code",
   "execution_count": 3,
   "id": "8b84c6bc-e6e7-4704-9dda-fcce5da8198b",
   "metadata": {},
   "outputs": [
    {
     "data": {
      "text/plain": [
       "<function __main__.ayush_1(n)>"
      ]
     },
     "execution_count": 3,
     "metadata": {},
     "output_type": "execute_result"
    }
   ],
   "source": [
    "ayush_1"
   ]
  },
  {
   "cell_type": "code",
   "execution_count": 5,
   "id": "5b4900ee-f414-46d0-87c3-5bd2cfcdc3bb",
   "metadata": {},
   "outputs": [
    {
     "name": "stdout",
     "output_type": "stream",
     "text": [
      "0\n",
      "1\n",
      "0\n",
      "0\n",
      "0\n"
     ]
    }
   ],
   "source": [
    "for i in ayush_1(5):\n",
    "    print(i)"
   ]
  },
  {
   "cell_type": "code",
   "execution_count": 7,
   "id": "f8db6121-8917-4257-b3cf-61997f7c52a0",
   "metadata": {},
   "outputs": [
    {
     "name": "stdin",
     "output_type": "stream",
     "text": [
      "Enter the range:  20\n"
     ]
    },
    {
     "name": "stdout",
     "output_type": "stream",
     "text": [
      "2 3 5 7 11 13 17 19 "
     ]
    }
   ],
   "source": [
    "5.\n",
    "def Prime_seq(num):\n",
    "    for i in range(2,num):\n",
    "        if prime(i) == True:\n",
    "            print(i,end = \" \")\n",
    "        else:\n",
    "            pass\n",
    "\n",
    "num = int(input(\"Enter the range: \"))\n",
    "prime = lambda num: all( num%x != 0 for x in range(2, int(num**.5)+1) )\n",
    "Prime_seq(num)"
   ]
  },
  {
   "cell_type": "code",
   "execution_count": 10,
   "id": "54cde77c-002a-4917-8f94-8b40245f33dc",
   "metadata": {},
   "outputs": [
    {
     "name": "stdout",
     "output_type": "stream",
     "text": [
      "[0, 1, 1, 2, 3, 5, 8, 13, 21, 34]\n"
     ]
    }
   ],
   "source": [
    "6.\n",
    "def fib_ser(n):\n",
    "    fibonacci_list=[0,1]\n",
    "    while len(fibonacci_list)<n:\n",
    "        next_number = fibonacci_list[-1] + fibonacci_list[-2]\n",
    "        fibonacci_list.append(next_number)\n",
    "    return fibonacci_list\n",
    "\n",
    "fib_seq =fib_ser(10)\n",
    "print(fib_seq)"
   ]
  },
  {
   "cell_type": "code",
   "execution_count": 12,
   "id": "8b284875-2bb9-408f-9c6c-887dc35ee729",
   "metadata": {},
   "outputs": [],
   "source": [
    "7.\n",
    "a=\"pwskills\"\n"
   ]
  },
  {
   "cell_type": "code",
   "execution_count": 13,
   "id": "c392ff88-d71a-4f94-bf1a-3722b3f708a5",
   "metadata": {},
   "outputs": [
    {
     "data": {
      "text/plain": [
       "['p', 'w', 's', 'k', 'i', 'l', 'l', 's']"
      ]
     },
     "execution_count": 13,
     "metadata": {},
     "output_type": "execute_result"
    }
   ],
   "source": [
    "list(a)"
   ]
  },
  {
   "cell_type": "code",
   "execution_count": 16,
   "id": "73b78f49-c204-45ca-b462-00b8d76974d5",
   "metadata": {},
   "outputs": [
    {
     "name": "stdin",
     "output_type": "stream",
     "text": [
      "Enter a number:  883\n"
     ]
    },
    {
     "name": "stdout",
     "output_type": "stream",
     "text": [
      "883 is not a palindrome.\n"
     ]
    }
   ],
   "source": [
    "8.\n",
    "def is_palindrome(number):\n",
    "    original_number = number\n",
    "    reversed_number = 0\n",
    "\n",
    "    while number > 0:\n",
    "        digit = number % 10\n",
    "        reversed_number = reversed_number * 10 + digit\n",
    "        number //= 10\n",
    "\n",
    "    return original_number == reversed_number\n",
    "\n",
    "# Get input from the user\n",
    "num = int(input(\"Enter a number: \"))\n",
    "\n",
    "if is_palindrome(num):\n",
    "    print(f\"{num} is a palindrome.\")\n",
    "else:\n",
    "    print(f\"{num} is not a palindrome.\")\n"
   ]
  },
  {
   "cell_type": "code",
   "execution_count": null,
   "id": "378a69e3-2930-4c33-900a-f2c1f387acfc",
   "metadata": {},
   "outputs": [],
   "source": [
    "9.\n",
    "a=[for i in range(1,101) if ]"
   ]
  }
 ],
 "metadata": {
  "kernelspec": {
   "display_name": "Python 3 (ipykernel)",
   "language": "python",
   "name": "python3"
  },
  "language_info": {
   "codemirror_mode": {
    "name": "ipython",
    "version": 3
   },
   "file_extension": ".py",
   "mimetype": "text/x-python",
   "name": "python",
   "nbconvert_exporter": "python",
   "pygments_lexer": "ipython3",
   "version": "3.10.8"
  }
 },
 "nbformat": 4,
 "nbformat_minor": 5
}
